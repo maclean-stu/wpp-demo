{
    "nbformat": 4, 
    "nbformat_minor": 0, 
    "cells": [
        {
            "source": "# R: Explore Sales Data from Enterprise Systems through Machine Learning", 
            "cell_type": "markdown", 
            "metadata": {}
        }, 
        {
            "source": "## R implementation for association rules mining (arules package)", 
            "cell_type": "markdown", 
            "metadata": {}
        }, 
        {
            "source": "Initializing libraries", 
            "cell_type": "markdown", 
            "metadata": {}
        }, 
        {
            "source": "library(arules)\nlibrary(plyr)\nlibrary(ibmdbR)", 
            "execution_count": null, 
            "cell_type": "code", 
            "metadata": {
                "collapsed": false
            }, 
            "outputs": []
        }, 
        {
            "source": "Loading the data from dashdb", 
            "cell_type": "markdown", 
            "metadata": {}
        }, 
        {
            "source": "# The code was removed by DSX for sharing.", 
            "execution_count": 4, 
            "cell_type": "code", 
            "metadata": {
                "collapsed": true
            }, 
            "outputs": []
        }, 
        {
            "source": "con.text <- paste(\";Database=\",credentials$db,\n                  \";Hostname=\",credentials$hostname,\n                  \";Port=\",credentials$port,\n                  \";PROTOCOL=TCPIP\",\n                  \";UID=\",credentials$username,\n                  \";PWD=\",credentials$password,sep=\"\")\ncon <- idaConnect(con.text)", 
            "execution_count": 5, 
            "cell_type": "code", 
            "metadata": {
                "collapsed": false
            }, 
            "outputs": []
        }, 
        {
            "source": "df <- idadf(con,\"SELECT * FROM DASH8382.TRANSACTIONS\")\nprint('A sample of loaded data')\nhead(df)", 
            "execution_count": 7, 
            "cell_type": "code", 
            "metadata": {
                "collapsed": false
            }, 
            "outputs": [
                {
                    "name": "stdout", 
                    "text": "[1] \"A sample of loaded data\"\n", 
                    "output_type": "stream"
                }, 
                {
                    "data": {
                        "text/plain": "  PRODUCT_LINE             PRODUCT_TYPE CUST_ORDER_NUMBER CITY       STATE\n1 Personal Accessories     Watches      172860            Cixi       NA   \n2 Golf Equipment           Irons        172862            Hillingdon NA   \n3 Golf Equipment           Putters      172862            Hillingdon NA   \n4 Personal Accessories     Eyewear      172865            Venezia    NA   \n5 Mountaineering Equipment Rope         172867            New Delhi  NCT  \n6 Golf Equipment           Irons        172869            Kushiro    NA   \n  COUNTRY        GENDER AGE MARITAL_STATUS PROFESSION  \n1 China          M      36  Married        Professional\n2 United Kingdom M      48  Married        Trades      \n3 United Kingdom M      48  Married        Trades      \n4 Italy          F      19  Single         Other       \n5 India          F      25  Single         Other       \n6 Japan          M      55  Unspecified    Other       ", 
                        "text/latex": "\\begin{tabular}{r|llllllllll}\n PRODUCT\\_LINE & PRODUCT\\_TYPE & CUST\\_ORDER\\_NUMBER & CITY & STATE & COUNTRY & GENDER & AGE & MARITAL\\_STATUS & PROFESSION\\\\\n\\hline\n\t Personal Accessories     & Watches                  & 172860                   & Cixi                     & NA                       & China                    & M                        & 36                       & Married                  & Professional            \\\\\n\t Golf Equipment           & Irons                    & 172862                   & Hillingdon               & NA                       & United Kingdom           & M                        & 48                       & Married                  & Trades                  \\\\\n\t Golf Equipment           & Putters                  & 172862                   & Hillingdon               & NA                       & United Kingdom           & M                        & 48                       & Married                  & Trades                  \\\\\n\t Personal Accessories     & Eyewear                  & 172865                   & Venezia                  & NA                       & Italy                    & F                        & 19                       & Single                   & Other                   \\\\\n\t Mountaineering Equipment & Rope                     & 172867                   & New Delhi                & NCT                      & India                    & F                        & 25                       & Single                   & Other                   \\\\\n\t Golf Equipment           & Irons                    & 172869                   & Kushiro                  & NA                       & Japan                    & M                        & 55                       & Unspecified              & Other                   \\\\\n\\end{tabular}\n", 
                        "text/html": "<table>\n<thead><tr><th scope=col>PRODUCT_LINE</th><th scope=col>PRODUCT_TYPE</th><th scope=col>CUST_ORDER_NUMBER</th><th scope=col>CITY</th><th scope=col>STATE</th><th scope=col>COUNTRY</th><th scope=col>GENDER</th><th scope=col>AGE</th><th scope=col>MARITAL_STATUS</th><th scope=col>PROFESSION</th></tr></thead>\n<tbody>\n\t<tr><td>Personal Accessories    </td><td>Watches                 </td><td>172860                  </td><td>Cixi                    </td><td>NA                      </td><td>China                   </td><td>M                       </td><td>36                      </td><td>Married                 </td><td>Professional            </td></tr>\n\t<tr><td>Golf Equipment          </td><td>Irons                   </td><td>172862                  </td><td>Hillingdon              </td><td>NA                      </td><td>United Kingdom          </td><td>M                       </td><td>48                      </td><td>Married                 </td><td>Trades                  </td></tr>\n\t<tr><td>Golf Equipment          </td><td>Putters                 </td><td>172862                  </td><td>Hillingdon              </td><td>NA                      </td><td>United Kingdom          </td><td>M                       </td><td>48                      </td><td>Married                 </td><td>Trades                  </td></tr>\n\t<tr><td>Personal Accessories    </td><td>Eyewear                 </td><td>172865                  </td><td>Venezia                 </td><td>NA                      </td><td>Italy                   </td><td>F                       </td><td>19                      </td><td>Single                  </td><td>Other                   </td></tr>\n\t<tr><td>Mountaineering Equipment</td><td>Rope                    </td><td>172867                  </td><td>New Delhi               </td><td>NCT                     </td><td>India                   </td><td>F                       </td><td>25                      </td><td>Single                  </td><td>Other                   </td></tr>\n\t<tr><td>Golf Equipment          </td><td>Irons                   </td><td>172869                  </td><td>Kushiro                 </td><td>NA                      </td><td>Japan                   </td><td>M                       </td><td>55                      </td><td>Unspecified             </td><td>Other                   </td></tr>\n</tbody>\n</table>\n"
                    }, 
                    "output_type": "display_data", 
                    "metadata": {}
                }
            ]
        }, 
        {
            "source": "# close the database connection\nidaClose(con)", 
            "execution_count": 8, 
            "cell_type": "code", 
            "metadata": {
                "collapsed": true
            }, 
            "outputs": []
        }, 
        {
            "source": "Data wrangling with R: putting all the purchased items into a single transaction", 
            "cell_type": "markdown", 
            "metadata": {}
        }, 
        {
            "source": "# using subset of fields: the values in the result set are unique\nordersDF <- ddply(df,c('CUST_ORDER_NUMBER','PRODUCT_LINE'),summarize, unused=sum(1))\nordersDF <- subset(ordersDF , select = c('CUST_ORDER_NUMBER','PRODUCT_LINE'))\n# merging multiple lines related to the same order inta a single line\nordersDF <- aggregate( PRODUCT_LINE ~ CUST_ORDER_NUMBER, data = ordersDF, paste, collapse = \",\")\n# getting an list of items istead of a comma separated strings\nordersDF <- dlply(ordersDF, 1, function(items) (strsplit(items$PRODUCT_LINE, split=\",\")))\n\ntransactions <- unlist(ordersDF, recursive = FALSE, use.names = FALSE)\n# filtering the transaction with multiple purchased items\ntransactions <- transactions [lapply(transactions , length) > 1]\nprint('Sample of transactions ready for Apriori algorithm')\nhead(transactions)\n", 
            "execution_count": 9, 
            "cell_type": "code", 
            "metadata": {
                "collapsed": false
            }, 
            "outputs": [
                {
                    "name": "stdout", 
                    "text": "[1] \"Sample of transactions ready for Apriori algorithm\"\n", 
                    "output_type": "stream"
                }, 
                {
                    "data": {
                        "text/markdown": "1. 1. 'Golf Equipment'\n2. 'Mountaineering Equipment'\n\n\n\n2. 1. 'Camping Equipment'\n2. 'Personal Accessories'\n\n\n\n3. 1. 'Camping Equipment'\n2. 'Outdoor Protection'\n\n\n\n4. 1. 'Outdoor Protection'\n2. 'Personal Accessories'\n\n\n\n5. 1. 'Camping Equipment'\n2. 'Golf Equipment'\n\n\n\n6. 1. 'Camping Equipment'\n2. 'Personal Accessories'\n\n\n\n\n\n", 
                        "text/plain": "[[1]]\n[1] \"Golf Equipment\"           \"Mountaineering Equipment\"\n\n[[2]]\n[1] \"Camping Equipment\"    \"Personal Accessories\"\n\n[[3]]\n[1] \"Camping Equipment\"  \"Outdoor Protection\"\n\n[[4]]\n[1] \"Outdoor Protection\"   \"Personal Accessories\"\n\n[[5]]\n[1] \"Camping Equipment\" \"Golf Equipment\"   \n\n[[6]]\n[1] \"Camping Equipment\"    \"Personal Accessories\"\n", 
                        "text/latex": "\\begin{enumerate}\n\\item \\begin{enumerate*}\n\\item 'Golf Equipment'\n\\item 'Mountaineering Equipment'\n\\end{enumerate*}\n\n\\item \\begin{enumerate*}\n\\item 'Camping Equipment'\n\\item 'Personal Accessories'\n\\end{enumerate*}\n\n\\item \\begin{enumerate*}\n\\item 'Camping Equipment'\n\\item 'Outdoor Protection'\n\\end{enumerate*}\n\n\\item \\begin{enumerate*}\n\\item 'Outdoor Protection'\n\\item 'Personal Accessories'\n\\end{enumerate*}\n\n\\item \\begin{enumerate*}\n\\item 'Camping Equipment'\n\\item 'Golf Equipment'\n\\end{enumerate*}\n\n\\item \\begin{enumerate*}\n\\item 'Camping Equipment'\n\\item 'Personal Accessories'\n\\end{enumerate*}\n\n\\end{enumerate}\n", 
                        "text/html": "<ol>\n\t<li><ol class=list-inline>\n\t<li>'Golf Equipment'</li>\n\t<li>'Mountaineering Equipment'</li>\n</ol>\n</li>\n\t<li><ol class=list-inline>\n\t<li>'Camping Equipment'</li>\n\t<li>'Personal Accessories'</li>\n</ol>\n</li>\n\t<li><ol class=list-inline>\n\t<li>'Camping Equipment'</li>\n\t<li>'Outdoor Protection'</li>\n</ol>\n</li>\n\t<li><ol class=list-inline>\n\t<li>'Outdoor Protection'</li>\n\t<li>'Personal Accessories'</li>\n</ol>\n</li>\n\t<li><ol class=list-inline>\n\t<li>'Camping Equipment'</li>\n\t<li>'Golf Equipment'</li>\n</ol>\n</li>\n\t<li><ol class=list-inline>\n\t<li>'Camping Equipment'</li>\n\t<li>'Personal Accessories'</li>\n</ol>\n</li>\n</ol>\n"
                    }, 
                    "output_type": "display_data", 
                    "metadata": {}
                }
            ]
        }, 
        {
            "source": "Transforming data according to arules requirements and applying Apriori algorithm", 
            "cell_type": "markdown", 
            "metadata": {}
        }, 
        {
            "source": "transactions <- as(transactions, \"transactions\")", 
            "execution_count": 10, 
            "cell_type": "code", 
            "metadata": {
                "collapsed": false
            }, 
            "outputs": []
        }, 
        {
            "source": "library(arules)\n\nrulesMod <- apriori(transactions, parameter=list(support=0.05, conf=0.2, minlen=2))\nrulesMod <- sort(rulesMod, decreasing=T, by=\"lift\")\n\ninspect(rulesMod)", 
            "execution_count": 11, 
            "cell_type": "code", 
            "metadata": {
                "collapsed": false
            }, 
            "outputs": [
                {
                    "name": "stdout", 
                    "text": "Apriori\n\nParameter specification:\n confidence minval smax arem  aval originalSupport maxtime support minlen\n        0.2    0.1    1 none FALSE            TRUE       5    0.05      2\n maxlen target   ext\n     10  rules FALSE\n\nAlgorithmic control:\n filter tree heap memopt load sort verbose\n    0.1 TRUE TRUE  FALSE TRUE    2    TRUE\n\nAbsolute minimum support count: 322 \n\nset item appearances ...[0 item(s)] done [0.00s].\nset transactions ...[5 item(s), 6443 transaction(s)] done [0.00s].\nsorting and recoding items ... [5 item(s)] done [0.00s].\ncreating transaction tree ... done [0.01s].\nchecking subsets of size 1 2 3 done [0.00s].\nwriting ... [12 rule(s)] done [0.00s].\ncreating S4 object  ... done [0.00s].\n     lhs                           rhs                        support   \n[1]  {Golf Equipment}           => {Personal Accessories}     0.09514201\n[2]  {Outdoor Protection}       => {Camping Equipment}        0.20037250\n[3]  {Camping Equipment}        => {Outdoor Protection}       0.20037250\n[4]  {Personal Accessories}     => {Mountaineering Equipment} 0.19571628\n[5]  {Mountaineering Equipment} => {Personal Accessories}     0.19571628\n[6]  {Camping Equipment}        => {Mountaineering Equipment} 0.21092659\n[7]  {Mountaineering Equipment} => {Camping Equipment}        0.21092659\n[8]  {Camping Equipment}        => {Personal Accessories}     0.22458482\n[9]  {Personal Accessories}     => {Camping Equipment}        0.22458482\n[10] {Outdoor Protection}       => {Personal Accessories}     0.11299084\n[11] {Personal Accessories}     => {Outdoor Protection}       0.11299084\n[12] {Golf Equipment}           => {Camping Equipment}        0.05509856\n     confidence lift     \n[1]  0.6493644  1.1570395\n[2]  0.6063880  0.9658734\n[3]  0.3191595  0.9658734\n[4]  0.3487279  0.8549672\n[5]  0.4798326  0.8549672\n[6]  0.3359703  0.8236898\n[7]  0.5171233  0.8236898\n[8]  0.3577256  0.6373966\n[9]  0.4001659  0.6373966\n[10] 0.3419446  0.6092779\n[11] 0.2013274  0.6092779\n[12] 0.3760593  0.5989988\n", 
                    "output_type": "stream"
                }
            ]
        }, 
        {
            "source": "## Visualizing association rules", 
            "cell_type": "markdown", 
            "metadata": {}
        }, 
        {
            "source": "Brunel-based visualization", 
            "cell_type": "markdown", 
            "metadata": {}
        }, 
        {
            "source": "#Transforming the rules into a data frame\nrulesSet <- as(rulesMod, \"data.frame\") \n\nrulesSet$rules <- gsub(\"\\\\{|\\\\}\", \"\", rulesSet$rules)\nrulesSet <- transform(rulesSet, col=do.call(rbind, strsplit(as.character(rules), '=>', fixed=TRUE)), stringsAsFactors=FALSE)\n\nrulesSet <- rename(rulesSet, c(\"col.1\"=\"LHS\", \"col.2\"=\"RHS\"))", 
            "execution_count": 12, 
            "cell_type": "code", 
            "metadata": {
                "collapsed": false
            }, 
            "outputs": []
        }, 
        {
            "source": "library(brunel)\n\nbrunel (\" data('rulesSet') chord x(LHS) y(RHS) color(confidence) size(support) tooltip(rules, support, confidence, lift)\",\n        width=600, height=400, online_js=TRUE)", 
            "execution_count": 13, 
            "cell_type": "code", 
            "metadata": {
                "collapsed": false
            }, 
            "outputs": [
                {
                    "data": {
                        "text/html": "<!--   ~ Copyright (c) 2015 IBM Corporation and others.   ~   ~ Licensed under the Apache License, Version 2.0 (the \"License\");   ~ You may not use this file except in compliance with the License.   ~ You may obtain a copy of the License at   ~   ~     http://www.apache.org/licenses/LICENSE-2.0   ~   ~ Unless required by applicable law or agreed to in writing, software   ~ distributed under the License is distributed on an \"AS IS\" BASIS,   ~ WITHOUT WARRANTIES OR CONDITIONS OF ANY KIND, either express or implied.   ~ See the License for the specific language governing permissions and   ~ limitations under the License.   -->  <link rel=\"stylesheet\" type=\"text/css\" href=\"https://brunelvis.org/js/brunel.2.1.css\"> <link rel=\"stylesheet\" type=\"text/css\" href=\"https://brunelvis.org/js/sumoselect.css\"> <style>      </style>  <div id=\"controls61771329-a271-4120-ae8a-6256fa31e613\" class=\"brunel\"/> <svg id=\"vis0db5d8b1-5b2f-480c-9fe7-3f353008901a\" width=\"600\" height=\"400\"></svg>  <script>     require.config({         waitSeconds: 60,         paths: {             'd3': '//cdnjs.cloudflare.com/ajax/libs/d3/4.2.1/d3.min',             'topojson': '//cdnjs.cloudflare.com/ajax/libs/topojson/1.6.20/topojson.min',             'brunel' : 'https://brunelvis.org/js/brunel.2.1.min',             'brunelControls' : 'https://brunelvis.org/js/brunel.controls.2.1.min'         },         shim: {             'brunel' : {                  exports: 'BrunelD3',                  deps: ['d3', 'topojson'],                  init: function() {                     return {                       BrunelD3 : BrunelD3,                       BrunelData : BrunelData                    }                  }              },             'brunelControls' : {                  exports: 'BrunelEventHandlers',                  init: function() {                     return {                       BrunelEventHandlers: BrunelEventHandlers,                       BrunelJQueryControlFactory: BrunelJQueryControlFactory                    }                  }              }           }      });      require([\"d3\"], function(d3) {         require([\"brunel\", \"brunelControls\"], function(brunel, brunelControls) {             function  BrunelVis(visId) {\n  \"use strict\"; // Strict Mode\n  var datasets = [],                               // Array of datasets for the original data\n      pre = function(d, i) { return d },           // Default pre-process does nothing\n      post = function(d, i) { return d },          // Default post-process does nothing\n      transitionTime = 200,                        // Transition time for animations\n      charts = [],                                 // The charts in the system\n      hasData = function(d) {return d && (d.row != null || hasData(d.data))}, // Filters to data items\n      vis = d3.select('#' + visId).attr('class', 'brunel');  // the SVG container\n\n  // Define chart #1 in the visualization //////////////////////////////////////////////////////////\n\n  charts[0] = function(parentNode, filterRows) {\n    var geom = BrunelD3.geometry(parentNode || vis.node(), 0, 0, 1, 1, 0, 0, 0, 76),\n      elements = [];                               // Array of elements in this chart\n\n    // Define groups for the chart parts ///////////////////////////////////////////////////////////\n\n    var chart =  vis.append('g').attr('class', 'chart1')\n      .attr('transform','translate(' + geom.chart_left + ',' + geom.chart_top + ')');\n    var overlay = chart.append('g').attr('class', 'element')\n      .attr('class', 'overlay').style('cursor','move').style('fill','none').style('pointer-events','all');\n    var zoom = d3.zoom().scaleExtent([1/3,3]);\n    var zoomNode = overlay.append('rect').attr('class', 'overlay')\n      .attr('x', geom.inner_left).attr('y', geom.inner_top)\n      .attr('width', geom.inner_rawWidth).attr('height', geom.inner_rawHeight)\n      .node();\n    zoomNode.__zoom = d3.zoomIdentity;\n    chart.append('rect').attr('class', 'background').attr('width', geom.chart_right-geom.chart_left).attr('height', geom.chart_bottom-geom.chart_top);\n    var interior = chart.append('g').attr('class', 'interior')\n      .attr('transform','translate(' + geom.inner_left + ',' + geom.inner_top + ')')\n      .attr('clip-path', 'url(#clip_vis0db5d8b1-5b2f-480c-9fe7-3f353008901a_chart1_inner)');\n    interior.append('rect').attr('class', 'inner').attr('width', geom.inner_width).attr('height', geom.inner_height);\n    var gridGroup = interior.append('g').attr('class', 'grid');\n    var legends = chart.append('g').attr('class', 'legend')\n      .attr('transform','translate(' + (geom.chart_right-geom.chart_left - 3) + ',' + 0 + ')');\n    vis.append('clipPath').attr('id', 'clip_vis0db5d8b1-5b2f-480c-9fe7-3f353008901a_chart1_inner').append('rect')\n      .attr('x', 0).attr('y', 0)\n      .attr('width', geom.inner_rawWidth+1).attr('height', geom.inner_rawHeight+1);\n    var scale_x = d3.scaleLinear(), scale_y = d3.scaleLinear();\n    var base_scales = [scale_x, scale_y];          // Untransformed original scales\n    zoom.on('zoom', function(t, time) {\n        t = t || d3.event.transform;\n        zoomNode.__zoom = t;\n        build(time || -1);\n    });\n\n    // Define element #1 ///////////////////////////////////////////////////////////////////////////\n\n    elements[0] = function() {\n      var original, processed,           // data sets passed in and then transformed\n        element, data,                   // Brunel element information and brunel data\n        selection, merged;               // D3 selection and merged selection\n      var elementGroup = interior.append('g').attr('class', 'element1')\n        .attr('transform','translate(' + geom.inner_width/2 + ',' + geom.inner_height/2 + ')'),\n        diagramExtras = elementGroup.append('g').attr('class', 'extras'),\n        main = elementGroup.append('g').attr('class', 'main'),\n        labels = BrunelD3.undoTransform(elementGroup.append('g').attr('class', 'labels').attr('aria-hidden', 'true'), elementGroup);\n\n      function makeData() {\n        original = datasets[0];\n        if (filterRows) original = original.retainRows(filterRows);\n        processed = pre(original, 0);\n        processed = post(processed, 0);\n        var f0 = processed.field('LHS'),\n          f1 = processed.field('RHS'),\n          f2 = processed.field('confidence'),\n          f3 = processed.field('support'),\n          f4 = processed.field('rules'),\n          f5 = processed.field('lift'),\n          f6 = processed.field('#row'),\n          f7 = processed.field('#selection');\n        var keyFunc = function(d) { return f0.value(d)+ '|' + f1.value(d) };\n        data = {\n          LHS:          function(d) { return f0.value(d.row) },\n          RHS:          function(d) { return f1.value(d.row) },\n          confidence:   function(d) { return f2.value(d.row) },\n          support:      function(d) { return f3.value(d.row) },\n          rules:        function(d) { return f4.value(d.row) },\n          lift:         function(d) { return f5.value(d.row) },\n          $row:         function(d) { return f6.value(d.row) },\n          $selection:   function(d) { return f7.value(d.row) },\n          LHS_f:        function(d) { return f0.valueFormatted(d.row) },\n          RHS_f:        function(d) { return f1.valueFormatted(d.row) },\n          confidence_f: function(d) { return f2.valueFormatted(d.row) },\n          support_f:    function(d) { return f3.valueFormatted(d.row) },\n          rules_f:      function(d) { return f4.valueFormatted(d.row) },\n          lift_f:       function(d) { return f5.valueFormatted(d.row) },\n          $row_f:       function(d) { return f6.valueFormatted(d.row) },\n          $selection_f: function(d) { return f7.valueFormatted(d.row) },\n          _split:       function(d) { return f2.value(d.row)+ '|' + f3.value(d.row) },\n          _key:         keyFunc,\n          _rows:        BrunelD3.makeRowsWithKeys(keyFunc, processed.rowCount())\n        };\n      }\n      // Aesthetic Functions\n      var scale_color = d3.scaleLinear().domain([0.2013274, 0.2573321, 0.3133367, 0.3693413, 0.4253459, 0.4813505, 0.5373552, 0.5933598, 0.6493644])\n        .interpolate(d3.interpolateHcl)\n        .range([ '#045a8d', '#2b8cbe', '#74a9cf', '#bdc9e1', '#f8efe8', '#fef0d9', \n          '#fdcc8a', '#fc8d59', '#e34a33']);\n      var color = function(d) { return scale_color(data.confidence(d)) };\n      var scale_size = d3.scaleLinear().domain([0, 0.2245848])\n        .range([ 0.001, 1]);\n      var size = function(d) { return scale_size(data.support(d)) };\n      BrunelD3.addLegend(legends, 'Confidence', scale_color, [0.7, 0.6, 0.5, 0.4, 0.3, 0.2]);\n\n      // Build element from data ///////////////////////////////////////////////////////////////////\n\n      function build(transitionMillis) {\n        element = elements[0];\n        // Data structures for a chord diagram\n        // Define chord data structures\n        var chordData = BrunelData.diagram_Chord.make(processed,'LHS', 'RHS', \n            'support');\n        var chord = d3.chord().padAngle(.025).sortSubgroups(d3.descending);\n        var chords = chord(chordData.matrix());\n        var arc_width = 14.4; // Width of exterior arc\n        function keyFunction(d) { return d.source.index + '|' + d.target.index }; //  special key function for the edges\n        var R = scale_x(geom.inner_radius)-scale_x(0), svgTrans = 'translate(' + scale_x(0) + ',' + scale_y(0) + ')';\n        main.attr('class', 'diagram chord');\n        selection = main.selectAll('.element').data(chords, function(d) { return d.source.index + '|' + d.target.index });\n        var added = selection.enter().append('path')\n          .attr('class', 'element edge filled');\n        merged = selection.merge(added);\n        merged.each(function(d) { d.row = chordData.index(d.target.index, d.target.subindex) });\n        merged.filter(hasData).classed('selected', function(d) { return data.$selection(d) == '\u2713' })\n          .filter(function(d) { return data.$selection(d) == '\u2713' }).raise();\n        BrunelD3.transition(merged, transitionMillis)\n          .attr('d', d3.ribbon().radius(R-arc_width))\n          .attr('class', 'element edge')\n          .attr('transform', svgTrans)\n          .filter(hasData)                         // following only performed for data items\n          .style('fill', color);\n\n        var tooltipLabeling = {\n          method: 'poly', location: ['center', 'center'], inside: true, align: 'middle', pad: 0, dy: 0.3,\n          fit: true, granularity: 0,\n          content: function(d) {\n            return d.row == null ? null : '<span class=\"title\">Rules: </span>'\n\t\t\t+ '<span class=\"field\">' + data.rules_f(d) + '</span>'\n\t\t\t+ '<br/>'\n\t\t\t+ '<span class=\"title\">Support: </span>'\n\t\t\t+ '<span class=\"field\">' + data.support_f(d) + '</span>'\n\t\t\t+ '<br/>'\n\t\t\t+ '<span class=\"title\">Confidence: </span>'\n\t\t\t+ '<span class=\"field\">' + data.confidence_f(d) + '</span>'\n\t\t\t+ '<br/>'\n\t\t\t+ '<span class=\"title\">Lift: </span>'\n\t\t\t+ '<span class=\"field\">' + data.lift_f(d) + '</span>'\n          }\n        };\n        BrunelD3.addTooltip(merged, tooltipLabeling, geom);\n\n        // Add in the arcs on the outside for the groups\n        diagramExtras.attr('class', 'diagram chord arcs');\n        var arcGroup = diagramExtras.selectAll('g').data(chords.groups),\n          addedArcGroups = arcGroup.enter().append('g'),\n          arcPath = d3.arc().innerRadius(R - arc_width).outerRadius(R);\n        addedArcGroups.append('path').attr('class', 'box')\n          .attr('id', function(d, i) { return 'arc' + i; });\n        addedArcGroups.append('text').attr('class', 'label')\n          .attr('dy', arc_width*0.72).attr('class', 'label')\n          .append('textPath').attr('xlink:href', function(d, i) { return '#arc' + i });\n        var mergedArcGroups = addedArcGroups.merge(arcGroup);\n        BrunelD3.tween(mergedArcGroups, transitionMillis, function(d, i) { \n            var group = d3.select(this);\n            group.attr('transform', svgTrans);\n            return function() {\n                group.select('path').attr('d', arcPath(d));\n                group.select('textPath').text(chordData.group(i));\n                BrunelD3.centerInWedge(group.select('text'), arc_width);\n            }\n        });\n\n        BrunelD3.transition(arcGroup.exit(), transitionMillis/3)\n          .style('opacity', 0.5).each( function() {\n            this.remove(); if (this.__label__) this.__label__.remove()\n        });\n\n        BrunelD3.transition(selection.exit(), transitionMillis/3)\n          .style('opacity', 0.5).each( function() {\n            this.remove(); if (this.__label__) this.__label__.remove()\n        });\n      }\n\n      return {\n        data:           function() { return processed },\n        original:       function() { return original },\n        internal:       function() { return data },\n        selection:      function() { return merged },\n        makeData:       makeData,\n        build:          build,\n        chart:          function() { return charts[0] },\n        group:          function() { return elementGroup },\n        fields: {\n          x:            ['LHS'],\n          y:            ['RHS'],\n          key:          ['LHS', 'RHS'],\n          color:        ['confidence'],\n          size:         ['support']\n        }\n      };\n    }();\n\n    function build(time, noData) {\n      var first = elements[0].data() == null;\n      if (first) time = 0; // No transition for first call\n      if ((first || time > -1) && !noData)elements[0].makeData();\n      elements[0].build(time);\n    }\n\n    // Expose the following components of the chart\n    return {\n      elements : elements,\n      interior : interior,\n      zoom: function(params, time) {\n          if (params) zoom.on('zoom').call(zoomNode, params, time);\n          return d3.zoomTransform(zoomNode);\n      },\n      build : build\n    };\n    }();\n\n  function setData(rowData, i) { datasets[i||0] = BrunelD3.makeData(rowData) }\n  function updateAll(time) { charts.forEach(function(x) {x.build(time || 0)}) }\n  function buildAll() {\n    for (var i=0;i<arguments.length;i++) setData(arguments[i], i);\n    updateAll(transitionTime);\n  }\n\n  return {\n    dataPreProcess:     function(f) { if (f) pre = f; return pre },\n    dataPostProcess:    function(f) { if (f) post = f; return post },\n    data:               function(d,i) { if (d) setData(d,i); return datasets[i||0] },\n    visId:              visId,\n    build:              buildAll,\n    rebuild:            updateAll,\n    charts:             charts\n  }\n}\n\n// Data Tables /////////////////////////////////////////////////////////////////////////////////////\n\nvar table1 = {\n   names: ['LHS', 'RHS', 'confidence', 'support', 'rules', 'lift'], \n   options: ['string', 'string', 'numeric', 'numeric', 'string', 'numeric'], \n   rows: [\n  ['Golf Equipment ', ' Personal Accessories', 0.64936441, 0.09514201, 'Golf Equipment => Personal Accessories', 1.15703951],\n  ['Outdoor Protection ', ' Camping Equipment', 0.60638798, 0.2003725, 'Outdoor Protection => Camping Equipment', 0.96587336],\n  ['Camping Equipment ', ' Outdoor Protection', 0.31915946, 0.2003725, 'Camping Equipment => Outdoor Protection', 0.96587336],\n  ['Personal Accessories ', ' Mountaineering Equipment', 0.34872788, 0.19571628, 'Personal Accessories => Mountaineering Equipment', 0.85496716],\n  ['Mountaineering Equipment ', ' Personal Accessories', 0.47983257, 0.19571628, 'Mountaineering Equipment => Personal Accessories', 0.85496716],\n  ['Camping Equipment ', ' Mountaineering Equipment', 0.33597033, 0.21092659, 'Camping Equipment => Mountaineering Equipment', 0.82368983],\n  ['Mountaineering Equipment ', ' Camping Equipment', 0.51712329, 0.21092659, 'Mountaineering Equipment => Camping Equipment', 0.82368983],\n  ['Camping Equipment ', ' Personal Accessories', 0.35772559, 0.22458482, 'Camping Equipment => Personal Accessories', 0.63739656],\n  ['Personal Accessories ', ' Camping Equipment', 0.40016593, 0.22458482, 'Personal Accessories => Camping Equipment', 0.63739656],\n  ['Outdoor Protection ', ' Personal Accessories', 0.34194457, 0.11299084, 'Outdoor Protection => Personal Accessories', 0.6092779],\n  ['Personal Accessories ', ' Outdoor Protection', 0.20132743, 0.11299084, 'Personal Accessories => Outdoor Protection', 0.6092779],\n  ['Golf Equipment ', ' Camping Equipment', 0.37605932, 0.05509856, 'Golf Equipment => Camping Equipment', 0.59899882]]\n};\n\n// Call Code to Build the system ///////////////////////////////////////////////////////////////////\n\nvar v = new BrunelVis('vis0db5d8b1-5b2f-480c-9fe7-3f353008901a');\nv.build(table1);\n         });     });  </script>"
                    }, 
                    "output_type": "display_data", 
                    "metadata": {}
                }
            ]
        }, 
        {
            "source": "", 
            "execution_count": null, 
            "cell_type": "code", 
            "metadata": {
                "collapsed": true
            }, 
            "outputs": []
        }
    ], 
    "metadata": {
        "language_info": {
            "file_extension": ".r", 
            "mimetype": "text/x-r-source", 
            "pygments_lexer": "r", 
            "version": "3.3.2", 
            "name": "R", 
            "codemirror_mode": "r"
        }, 
        "kernelspec": {
            "name": "r", 
            "display_name": "R with Spark 1.6", 
            "language": "R"
        }
    }
}